{
 "cells": [
  {
   "cell_type": "code",
   "execution_count": 2,
   "metadata": {},
   "outputs": [],
   "source": [
    "import chromadb\n",
    "import chromadb.utils.embedding_functions as embedding_functions\n",
    "import numpy as np\n",
    "import pandas as pd\n",
    "import regex as re\n",
    "import os\n",
    "\n",
    "from langchain.prompts import ChatPromptTemplate\n",
    "\n",
    "from langchain_text_splitters import RecursiveCharacterTextSplitter\n",
    "from langchain_community.embeddings.openai import OpenAIEmbeddings\n",
    "from langchain_community.vectorstores import Chroma\n",
    "\n",
    "from langchain_core.output_parsers import StrOutputParser\n",
    "from langchain_core.runnables import RunnableParallel, RunnablePassthrough\n",
    "\n",
    "BASE_DIR = os.path.abspath(os.path.join(os.pardir))\n",
    "DATA_DIR = os.path.abspath(os.path.join(BASE_DIR,\"data\"))"
   ]
  },
  {
   "cell_type": "markdown",
   "metadata": {},
   "source": [
    "# Load DATA"
   ]
  },
  {
   "cell_type": "code",
   "execution_count": 6,
   "metadata": {},
   "outputs": [],
   "source": [
    "from langchain_community.document_loaders import PyPDFLoader\n",
    "\n",
    "loader = PyPDFLoader(os.path.join(DATA_DIR,\"code_civil.pdf\"))\n",
    "pages = loader.load_and_split()"
   ]
  },
  {
   "cell_type": "code",
   "execution_count": 26,
   "metadata": {},
   "outputs": [
    {
     "name": "stdout",
     "output_type": "stream",
     "text": [
      "Titre préliminaire : De la publication, des effets et de l'application des lois en général\n",
      "> Civ., 15 mai 2019, n° 18-12.602 (P)   [ ECLI:FR:CCASS:2019:C100434  ]\n",
      "Dictionnaire du Droit privé\n",
      "> Immeuble\n",
      "4    \n",
      "  Legif.   \n",
      "  Plan   \n",
      "  Jp.C.Cass.   \n",
      "  Jp.Appel   \n",
      "  Jp.Admin.   \n",
      "  Juricaf\n",
      "Le juge qui refusera de juger, sous prétexte du silence, de l'obscurité ou de l'insuffisance de la loi, pourra être\n",
      "poursuivi comme coupable de déni de justice.\n",
      "Récemment au Bulletin de la Cour de Cassation\n",
      "> Civ., 25 octobre 2018, n° 17-16.828 (P)   [ ECLI:FR:CCASS:2018:C300955  ]\n",
      "Dictionnaire du Droit privé\n",
      "> Citation\n",
      "5    \n",
      "  Legif.   \n",
      "  Plan   \n",
      "  Jp.C.Cass.   \n",
      "  Jp.Appel   \n",
      "  Jp.Admin.   \n",
      "  Juricaf\n",
      "Il est défendu aux juges de prononcer par voie de disposition générale et réglementaire sur les causes qui leur\n",
      "sont soumises.\n",
      "Récemment au Bulletin de la Cour de Cassation\n",
      "> Soc., 16 février 2022, n° 20-21.758, (B), FS   [ ECLI:FR:CCASS:2022:SO00234  ]\n",
      "> Civ., 9 janvier 2019, n° 18-50.032 (P)   [ ECLI:FR:CCASS:2019:C100004  ]\n",
      "Ressources\n",
      "> Recherche sur le précédent juridictionnel en France, Thèse Université Toulouse Capitole 2019   (Florent Tap)\n",
      "6    \n",
      "  Legif.   \n",
      "  Plan   \n",
      "  Jp.C.Cass.   \n",
      "  Jp.Appel   \n",
      "  Jp.Admin.   \n",
      "  Juricaf\n",
      "On ne peut déroger, par des conventions particulières, aux lois qui intéressent l'ordre public et les bonnes\n",
      "moeurs.\n",
      "Récemment au Bulletin de la Cour de Cassation\n",
      "> Soc., 9 octobre 2019, n° 18-13.314 (P)   [ ECLI:FR:CCASS:2019:SO01418  ]\n",
      "service-public.fr\n",
      "> Comment faire transcrire en France un divorce prononcé à l'étranger ? : Ordre public\n",
      "> Exécution d'un jugement civil étranger (divorce, dette...) en France : Ordre public\n",
      "Dictionnaire du Droit privé\n",
      "> Ordre public\n",
      "Ressources\n",
      "> Droit international privé et comparé des mariages franco-algériens (fr) (dz) - La GBD\n",
      "> Le divorce par consentement mutuel par acte d’avocat, foire aux questions.\n",
      "6-1  LOI n°2021-1017 du 2 août 2021 - art. 6 (V)      \n",
      "  Legif.   \n",
      "  Plan   \n",
      "  Jp.C.Cass.   \n",
      "  Jp.Appel   \n",
      "  Jp.Admin.   \n",
      "  Juricaf\n",
      "Le mariage et la filiation adoptive emportent les mêmes effets, droits et obligations reconnus par les lois, à\n",
      "l'exclusion de ceux prévus aux chapitres Ier à IV du titre VII du livre Ier du présent code, que les époux ou\n",
      "les parents soient de sexe différent ou de même sexe.\n",
      "6-2  Ordonnance n°2022-1292 du 5 octobre 2022 - art. 1      \n",
      "  Legif.   \n",
      "  Plan   \n",
      "  Jp.C.Cass.   \n",
      "  Jp.Appel   \n",
      "  Jp.Admin.   \n",
      "  Juricaf\n",
      "Tous les enfants dont la filiation est légalement établie ont, dans leurs rapports avec leurs parents, les mêmes\n",
      "droits et les mêmes devoirs, sous réserve des dispositions propres à l'adoption simple. La filiation fait entrer\n",
      "l'enfant dans la famille de chacun de ses parents.\n",
      "p. 13    Code civil\n"
     ]
    }
   ],
   "source": [
    "print(pages[40].page_content)"
   ]
  },
  {
   "cell_type": "code",
   "execution_count": 115,
   "metadata": {},
   "outputs": [],
   "source": [
    "text = pages[500].page_content"
   ]
  },
  {
   "cell_type": "code",
   "execution_count": 116,
   "metadata": {},
   "outputs": [
    {
     "name": "stdout",
     "output_type": "stream",
     "text": [
      "Livre III : Des différentes manières dont on acquiert la propriété - Titre III : Des sources d'obligations - Sous-titre II : La responsabilité extracontractuelle \n",
      "Le recours du fournisseur contre le producteur obéit aux mêmes règles que la demande émanant de la victime\n",
      "directe du défaut. Toutefois, il doit agir dans l'année suivant la date de sa citation en justice.\n",
      "1245-7  Ordonnance n°2016-131 du 10 février 2016 - art. 2   -  Conseil Constit. 2023-1045 QPC      \n",
      "  Legif.   \n",
      "  Plan   \n",
      "  Jp.C.Cass.   \n",
      "  Jp.Appel   \n",
      "  Jp.Admin.   \n",
      "  Juricaf\n",
      "En cas de dommage causé par le défaut d'un produit incorporé dans un autre, le producteur de la partie\n",
      "composante et celui qui a réalisé l'incorporation sont solidairement responsables.\n",
      "1245-8  Ordonnance n°2016-131 du 10 février 2016 - art. 2   -  Conseil Constit. 2023-1045 QPC      \n",
      "  Legif.   \n",
      "  Plan   \n",
      "  Jp.C.Cass.   \n",
      "  Jp.Appel   \n",
      "  Jp.Admin.   \n",
      "  Juricaf\n",
      "Le demandeur doit prouver le dommage, le défaut et le lien de causalité entre le défaut et le dommage.\n",
      "Récemment au Bulletin de la Cour de Cassation\n",
      "> Première chambre civile, 21 Octobre 2020, n°19-18.689, (B)   [ ECLI:FR:CCASS:2020:C100616  ]\n",
      "> Première chambre civile, 21 Octobre 2020, n°19-18.689, (B)   [ ECLI:FR:CCASS:2020:C100616  ]\n",
      "> Première chambre civile, 26 Février 2020, n°18-26.256, (B)   [ ECLI:FR:CCASS:2020:C100147  ]\n",
      "1245-9  Ordonnance n°2016-131 du 10 février 2016 - art. 2   -  Conseil Constit. 2023-1045 QPC      \n",
      "  Legif.   \n",
      "  Plan   \n",
      "  Jp.C.Cass.   \n",
      "  Jp.Appel   \n",
      "  Jp.Admin.   \n",
      "  Juricaf\n",
      "Le producteur peut être responsable du défaut alors même que le produit a été fabriqué dans le respect des\n",
      "règles de l'art ou de normes existantes ou qu'il a fait l'objet d'une autorisation administrative.\n",
      "1245-10  Ordonnance n°2016-131 du 10 février 2016 - art. 2  -  Conseil Constit. 2023-1045 QPC      \n",
      "  Legif.   \n",
      "  Plan   \n",
      "  Jp.C.Cass.   \n",
      "  Jp.Appel   \n",
      "  Jp.Admin.   \n",
      "  Juricaf\n",
      "Le producteur est responsable de plein droit à moins qu'il ne prouve :\n",
      "1° Qu'il n'avait pas mis le produit en circulation ;\n",
      "2° Que, compte tenu des circonstances, il y a lieu d'estimer que le défaut ayant causé le dommage n'existait\n",
      "pas au moment où le produit a été mis en circulation par lui ou que ce défaut est né postérieurement ;\n",
      "3° Que le produit n'a pas été destiné à la vente ou à toute autre forme de distribution ;\n",
      "4° Que l'état des connaissances scientifiques et techniques, au moment où il a mis le produit en circulation,\n",
      "n'a pas permis de déceler l'existence du défaut ;\n",
      "5° Ou que le défaut est dû à la conformité du produit avec des règles impératives d'ordre législatif ou\n",
      "réglementaire.\n",
      "Le producteur de la partie composante n'est pas non plus responsable s'il établit que le défaut est imputable à\n",
      "la conception du produit dans lequel cette partie a été incorporée ou aux instructions données par le producteur\n",
      "de ce produit.\n",
      "Récemment au Bulletin de la Cour de Cassation\n",
      "> Première chambre civile, 21 Octobre 2020, n°19-18.689, (B)   [ ECLI:FR:CCASS:2020:C100616  ]\n",
      "1245-11  Ordonnance n°2016-131 du 10 février 2016 - art. 2  -  Conseil Constit. 2023-1045 QPC      \n",
      "  Legif.   \n",
      "  Plan   \n",
      "  Jp.C.Cass.   \n",
      "  Jp.Appel   \n",
      "  Jp.Admin.   \n",
      "  Juricaf\n",
      "Le producteur ne peut invoquer la cause d'exonération prévue au 4° de l'article 1245-10  lorsque le dommage\n",
      "a été causé par un élément du corps humain ou par les produits issus de celui-ci.\n",
      "Récemment au Bulletin de la Cour de Cassation\n",
      "> Première chambre civile, 05 Janvier 2023, n°22-17.439, (B)   [ ECLI:FR:CCASS:2023:C100091  ]\n",
      "1245-12  Ordonnance n°2016-131 du 10 février 2016 - art. 2  -  Conseil Constit. 2023-1045 QPC      \n",
      "  Legif.   \n",
      "  Plan   \n",
      "  Jp.C.Cass.   \n",
      "  Jp.Appel   \n",
      "  Jp.Admin.   \n",
      "  Juricaf\n",
      "La responsabilité du producteur peut être réduite ou supprimée, compte tenu de toutes les circonstances, lorsque\n",
      "le dommage est causé conjointement par un défaut du produit et par la faute de la victime ou d'une personne\n",
      "dont la victime est responsable.\n",
      "Récemment au Bulletin de la Cour de Cassation\n",
      "p. 400    Code civil\n"
     ]
    }
   ],
   "source": [
    "print(text)"
   ]
  },
  {
   "cell_type": "code",
   "execution_count": 109,
   "metadata": {},
   "outputs": [
    {
     "data": {
      "text/plain": [
       "['4', '5', '6', '6-1', '6-2']"
      ]
     },
     "execution_count": 109,
     "metadata": {},
     "output_type": "execute_result"
    }
   ],
   "source": [
    "re.findall(\"(?:\\n)(\\d+-?\\d*)\",text,re.DOTALL)"
   ]
  },
  {
   "cell_type": "code",
   "execution_count": 92,
   "metadata": {},
   "outputs": [
    {
     "data": {
      "text/plain": [
       "\"Titre préliminaire : De la publication, des effets et de l'application des lois en général\\n> Civ., 15 mai 2019, n° 18-12.602 (P)   [ ECLI:FR:CCASS:2019:C100434  ]\\nDictionnaire du Droit privé\\n> Immeuble\\n4    \\n  Legif.   \\n  Plan   \\n  Jp.C.Cass.   \\n  Jp.Appel   \\n  Jp.Admin.   \\n  Juricaf\\nLe juge qui refusera de juger, sous prétexte du silence, de l'obscurité ou de l'insuffisance de la loi, pourra être\\npoursuivi comme coupable de déni de justice.\\nRécemment au Bulletin de la Cour de Cassation\\n> Civ., 25 octobre 2018, n° 17-16.828 (P)   [ ECLI:FR:CCASS:2018:C300955  ]\\nDictionnaire du Droit privé\\n> Citation\\n5    \\n  Legif.   \\n  Plan   \\n  Jp.C.Cass.   \\n  Jp.Appel   \\n  Jp.Admin.   \\n  Juricaf\\nIl est défendu aux juges de prononcer par voie de disposition générale et réglementaire sur les causes qui leur\\nsont soumises.\\nRécemment au Bulletin de la Cour de Cassation\\n> Soc., 16 février 2022, n° 20-21.758, (B), FS   [ ECLI:FR:CCASS:2022:SO00234  ]\\n> Civ., 9 janvier 2019, n° 18-50.032 (P)   [ ECLI:FR:CCASS:2019:C100004  ]\\nRessources\\n> Recherche sur le précédent juridictionnel en France, Thèse Université Toulouse Capitole 2019   (Florent Tap)\\n6    \\n  Legif.   \\n  Plan   \\n  Jp.C.Cass.   \\n  Jp.Appel   \\n  Jp.Admin.   \\n  Juricaf\\nOn ne peut déroger, par des conventions particulières, aux lois qui intéressent l'ordre public et les bonnes\\nmoeurs.\\nRécemment au Bulletin de la Cour de Cassation\\n> Soc., 9 octobre 2019, n° 18-13.314 (P)   [ ECLI:FR:CCASS:2019:SO01418  ]\\nservice-public.fr\\n> Comment faire transcrire en France un divorce prononcé à l'étranger ? : Ordre public\\n> Exécution d'un jugement civil étranger (divorce, dette...) en France : Ordre public\\nDictionnaire du Droit privé\\n> Ordre public\\nRessources\\n> Droit international privé et comparé des mariages franco-algériens (fr) (dz) - La GBD\\n> Le divorce par consentement mutuel par acte d’avocat, foire aux questions.\\n6-1  LOI n°2021-1017 du 2 août 2021 - art. 6 (V)      \\n  Legif.   \\n  Plan   \\n  Jp.C.Cass.   \\n  Jp.Appel   \\n  Jp.Admin.   \\n  Juricaf\\nLe mariage et la filiation adoptive emportent les mêmes effets, droits et obligations reconnus par les lois, à\\nl'exclusion de ceux prévus aux chapitres Ier à IV du titre VII du livre Ier du présent code, que les époux ou\\nles parents soient de sexe différent ou de même sexe.\\n6-2  Ordonnance n°2022-1292 du 5 octobre 2022 - art. 1      \\n  Legif.   \\n  Plan   \\n  Jp.C.Cass.   \\n  Jp.Appel   \\n  Jp.Admin.   \\n  Juricaf\\nTous les enfants dont la filiation est légalement établie ont, dans leurs rapports avec leurs parents, les mêmes\\ndroits et les mêmes devoirs, sous réserve des dispositions propres à l'adoption simple. La filiation fait entrer\\nl'enfant dans la famille de chacun de ses parents.\\np. 13    Code civil\""
      ]
     },
     "execution_count": 92,
     "metadata": {},
     "output_type": "execute_result"
    }
   ],
   "source": [
    "text"
   ]
  },
  {
   "cell_type": "code",
   "execution_count": 245,
   "metadata": {},
   "outputs": [
    {
     "name": "stdout",
     "output_type": "stream",
     "text": [
      "3318\n"
     ]
    }
   ],
   "source": [
    "articles = []\n",
    "for p in pages : \n",
    "    text = p.page_content\n",
    "    articles += re.findall(\"(?:\\n|^)\\d+-?\\d*.*?(?=\\n\\d+-?\\d*|\\np\\. \\d+)\",text,re.DOTALL)\n",
    "\n",
    "print(len(articles))"
   ]
  },
  {
   "cell_type": "code",
   "execution_count": 246,
   "metadata": {},
   "outputs": [],
   "source": [
    "pattern_to_remove = \"\\n  Legif.   \\n  Plan   \\n  Jp.C.Cass.   \\n  Jp.Appel   \\n  Jp.Admin.   \\n  Juricaf\"\n",
    "articles = [re.sub(pattern_to_remove,\"\",a) for a in articles]\n",
    "articles = [re.findall(\"(?:\\n|^)\\d+-?\\d*.*?\\n(.*)\",a,re.DOTALL) for a in articles]\n",
    "articles = [a[0] for a in articles if len(a)==1]\n",
    "\n",
    "articles = [re.findall(\"[^\\W\\d]+\",a.lower()) for a in articles]\n",
    "articles = [[w for w in a if w not in sw]for a in articles]\n",
    "articles = [\" \".join(a) for a in articles]\n",
    "\n"
   ]
  },
  {
   "cell_type": "markdown",
   "metadata": {},
   "source": [
    "Statistics"
   ]
  },
  {
   "cell_type": "code",
   "execution_count": 204,
   "metadata": {},
   "outputs": [],
   "source": [
    "import nltk\n",
    "from nltk.corpus import stopwords"
   ]
  },
  {
   "cell_type": "code",
   "execution_count": 205,
   "metadata": {},
   "outputs": [
    {
     "name": "stderr",
     "output_type": "stream",
     "text": [
      "[nltk_data] Downloading package stopwords to\n",
      "[nltk_data]     /lre/home/apellet/nltk_data...\n",
      "[nltk_data]   Package stopwords is already up-to-date!\n"
     ]
    }
   ],
   "source": [
    "nltk.download('stopwords')\n",
    "sw = stopwords.words(\"french\")\n"
   ]
  },
  {
   "cell_type": "code",
   "execution_count": 249,
   "metadata": {},
   "outputs": [],
   "source": [
    "from sklearn.feature_extraction.text import CountVectorizer\n",
    "corpus = articles\n"
   ]
  },
  {
   "cell_type": "code",
   "execution_count": 250,
   "metadata": {},
   "outputs": [
    {
     "data": {
      "text/plain": [
       "array(['ab', 'abandon', 'abandonnant', ..., 'îlots', 'œuvre', 'œuvrer'],\n",
       "      dtype=object)"
      ]
     },
     "execution_count": 250,
     "metadata": {},
     "output_type": "execute_result"
    }
   ],
   "source": [
    "\n",
    "vectorizer = CountVectorizer(stop_words=sw)\n",
    "X = vectorizer.fit_transform(corpus)\n",
    "vectorizer.get_feature_names_out()\n",
    "#print(X.toarray())\n"
   ]
  },
  {
   "cell_type": "code",
   "execution_count": 251,
   "metadata": {},
   "outputs": [],
   "source": [
    "M = pd.DataFrame(data=X.toarray(),columns = vectorizer.get_feature_names_out())"
   ]
  },
  {
   "cell_type": "code",
   "execution_count": 252,
   "metadata": {},
   "outputs": [
    {
     "data": {
      "text/plain": [
       "peut            1462\n",
       "fr              1324\n",
       "droit           1031\n",
       "être             998\n",
       "ccass            973\n",
       "ecli             973\n",
       "si               774\n",
       "article          768\n",
       "chambre          763\n",
       "cas              671\n",
       "civile           660\n",
       "privé            603\n",
       "dictionnaire     552\n",
       "acte             514\n",
       "personne         505\n",
       "cour             501\n",
       "cassation        496\n",
       "époux            491\n",
       "bulletin         489\n",
       "récemment        487\n",
       "lorsque          487\n",
       "juge             458\n",
       "biens            454\n",
       "celui            424\n",
       "cette            389\n",
       "autre            384\n",
       "fait             377\n",
       "sans             367\n",
       "enfant           367\n",
       "ci               353\n",
       "première         350\n",
       "titre            343\n",
       "tout             342\n",
       "civil            340\n",
       "état             338\n",
       "doit             336\n",
       "sous             335\n",
       "contrat          333\n",
       "droits           330\n",
       "entre            328\n",
       "peuvent          326\n",
       "lieu             305\n",
       "dont             296\n",
       "demande          291\n",
       "conditions       291\n",
       "mariage          282\n",
       "dispositions     277\n",
       "articles         267\n",
       "délai            256\n",
       "tiers            254\n",
       "dtype: int64"
      ]
     },
     "execution_count": 252,
     "metadata": {},
     "output_type": "execute_result"
    }
   ],
   "source": [
    "M.sum(axis=0).sort_values(ascending=False)[:50]"
   ]
  },
  {
   "cell_type": "code",
   "execution_count": 253,
   "metadata": {},
   "outputs": [],
   "source": [
    "from top2vec import Top2Vec"
   ]
  },
  {
   "cell_type": "code",
   "execution_count": 223,
   "metadata": {},
   "outputs": [
    {
     "data": {
      "text/plain": [
       "\"Il est tenu compte pour la détermination, à toute époque, du territoire français, des modifications résultant des\\nactes de l'autorité publique française pris en application de la Constitution et des lois, ainsi que des traités\\ninternationaux survenus antérieurement.\""
      ]
     },
     "execution_count": 223,
     "metadata": {},
     "output_type": "execute_result"
    }
   ],
   "source": [
    "corpus[45]"
   ]
  },
  {
   "cell_type": "code",
   "execution_count": 254,
   "metadata": {},
   "outputs": [
    {
     "name": "stderr",
     "output_type": "stream",
     "text": [
      "2024-11-19 11:10:20,732 - top2vec - INFO - Pre-processing documents for training\n",
      "2024-11-19 11:10:20,933 - top2vec - INFO - Creating joint document/word embedding\n",
      "2024-11-19 11:11:36,508 - top2vec - INFO - Creating lower dimension embedding of documents\n",
      "2024-11-19 11:11:42,334 - top2vec - INFO - Finding dense areas of documents\n",
      "2024-11-19 11:11:42,416 - top2vec - INFO - Finding topics\n"
     ]
    }
   ],
   "source": [
    "model = Top2Vec(documents=corpus,embedding_model=\"doc2vec\",speed=\"deep-learn\")"
   ]
  },
  {
   "cell_type": "code",
   "execution_count": 255,
   "metadata": {},
   "outputs": [
    {
     "data": {
      "text/plain": [
       "31"
      ]
     },
     "execution_count": 255,
     "metadata": {},
     "output_type": "execute_result"
    }
   ],
   "source": [
    "model.get_num_topics()"
   ]
  },
  {
   "cell_type": "code",
   "execution_count": 258,
   "metadata": {},
   "outputs": [],
   "source": [
    "topic_words, word_scores, topic_nums = model.get_topics(31)\n"
   ]
  },
  {
   "cell_type": "code",
   "execution_count": 229,
   "metadata": {},
   "outputs": [
    {
     "data": {
      "text/plain": [
       "array([['financiere', 'co', 'ecli', ..., 'relative', 'cause', 'foi'],\n",
       "       ['protegee', 'tuteur', 'gestion', ..., 'prejudice', 'succession',\n",
       "        'reduction'],\n",
       "       ['dette', 'creancier', 'creance', ..., 'dernier', 'immeubles',\n",
       "        'non'],\n",
       "       ...,\n",
       "       ['prescription', 'delai', 'compter', ..., 'economique',\n",
       "        'immeuble', 'mai'],\n",
       "       ['ouvrage', 'dommages', 'responsabilite', ..., 'associes',\n",
       "        'exercer', 'ccass'],\n",
       "       ['compensatoire', 'prestation', 'capital', ..., 'avril',\n",
       "        'execution', 'deuxieme']], dtype='<U14')"
      ]
     },
     "execution_count": 229,
     "metadata": {},
     "output_type": "execute_result"
    }
   ],
   "source": [
    "topic_words"
   ]
  },
  {
   "cell_type": "code",
   "execution_count": 259,
   "metadata": {},
   "outputs": [],
   "source": [
    "df = pd.DataFrame(topic_words).T"
   ]
  }
 ],
 "metadata": {
  "kernelspec": {
   "display_name": "base",
   "language": "python",
   "name": "python3"
  },
  "language_info": {
   "codemirror_mode": {
    "name": "ipython",
    "version": 3
   },
   "file_extension": ".py",
   "mimetype": "text/x-python",
   "name": "python",
   "nbconvert_exporter": "python",
   "pygments_lexer": "ipython3",
   "version": "3.11.5"
  }
 },
 "nbformat": 4,
 "nbformat_minor": 2
}
