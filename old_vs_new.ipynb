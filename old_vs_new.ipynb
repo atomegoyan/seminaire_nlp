{
 "cells": [
  {
   "cell_type": "code",
   "execution_count": 1,
   "id": "fbc01040",
   "metadata": {},
   "outputs": [
    {
     "name": "stderr",
     "output_type": "stream",
     "text": [
      "[nltk_data] Downloading package stopwords to /home/atom/nltk_data...\n",
      "[nltk_data]   Package stopwords is already up-to-date!\n"
     ]
    }
   ],
   "source": [
    "import os\n",
    "import pandas as pd\n",
    "import regex as re\n",
    "import numpy as np\n",
    "import nltk\n",
    "from nltk.corpus import stopwords\n",
    "\n",
    "from sklearn.metrics import accuracy_score\n",
    "from sklearn.model_selection import train_test_split\n",
    "\n",
    "from sklearn.feature_extraction.text import CountVectorizer\n",
    "from sklearn.linear_model import LogisticRegression \n",
    "nltk.download('stopwords')\n",
    "sw = stopwords.words(\"english\") + ['unto', 'ye', 'shall'] + ['shall', 'unto', 'thou', 'thy', 'thee','thereof']\n",
    "\n",
    "\n",
    "text = open(os.path.join(\"/home/atom/Bureau/Aurelien/epitech/seminaire_nlp/pg10.txt\")).read()\n",
    "corpus = re.split(\"\\*{3}\",text)"
   ]
  },
  {
   "cell_type": "code",
   "execution_count": 2,
   "id": "aec10aec",
   "metadata": {},
   "outputs": [],
   "source": [
    "old = corpus[2]\n",
    "old_verse = re.findall(\"\\d+:\\d+(.*?)(?=\\d+:\\d+|\\n+$)\",old,re.DOTALL)\n",
    "old_verse = [re.sub(\"\\n+\",\" \",v).strip(\" \").lower() for v in old_verse]\n",
    "\n",
    "new = corpus[3]\n",
    "new_verse = re.findall(\"\\d+:\\d+(.*?)(?=\\d+:\\d+|\\n+$)\",new,re.DOTALL)\n",
    "new_verse = [re.sub(\"\\n+\",\" \",v).strip(\" \").lower() for v in new_verse]\n",
    "\n",
    "df = pd.DataFrame({\"testament\":[\"old\"]*len(old_verse)+[\"new\"]*len(new_verse),\"text\":old_verse+new_verse})"
   ]
  },
  {
   "cell_type": "code",
   "execution_count": 3,
   "id": "cb0a9874",
   "metadata": {},
   "outputs": [],
   "source": [
    "verses = df.text.values\n",
    "verses_clean = [\" \".join(re.findall(\"[^\\W\\d]+\",v)) for v in verses]\n",
    "verses_clean_nosw = [re.findall(\"[^\\W\\d]+\",v) for v in verses]\n",
    "verses_clean_nosw = [\" \".join([w for w in verse_tokenized if not w in sw]) for verse_tokenized in verses_clean_nosw]\n",
    "\n",
    "df.loc[:,\"verses_clean\"] = verses_clean\n",
    "df.loc[:,\"verses_clean_nosw\"] = verses_clean_nosw"
   ]
  },
  {
   "cell_type": "code",
   "execution_count": 4,
   "id": "359ca3d4",
   "metadata": {},
   "outputs": [],
   "source": [
    "df_train, df_test , y_train , y_test = train_test_split(df.drop([\"testament\"],axis=1),df.testament,test_size=0.2,stratify=df.testament)\n",
    "ids_train = y_train.index.values\n",
    "ids_test = y_test.index.values"
   ]
  },
  {
   "cell_type": "markdown",
   "id": "5861985f",
   "metadata": {},
   "source": [
    "# Prediction with CountVectorizer"
   ]
  },
  {
   "cell_type": "code",
   "execution_count": 5,
   "id": "b5aa0092",
   "metadata": {},
   "outputs": [],
   "source": [
    "vectorizer = CountVectorizer()\n",
    "X = vectorizer.fit_transform(df.verses_clean.values)\n",
    "X = pd.DataFrame(data=X.toarray(),columns = vectorizer.get_feature_names_out())\n",
    "X_train = X.loc[ids_train,:]\n",
    "X_test = X.loc[ids_test]"
   ]
  },
  {
   "cell_type": "code",
   "execution_count": 6,
   "id": "43ad6d9f",
   "metadata": {},
   "outputs": [
    {
     "name": "stderr",
     "output_type": "stream",
     "text": [
      "/home/atom/anaconda3/lib/python3.11/site-packages/sklearn/linear_model/_logistic.py:460: ConvergenceWarning: lbfgs failed to converge (status=1):\n",
      "STOP: TOTAL NO. of ITERATIONS REACHED LIMIT.\n",
      "\n",
      "Increase the number of iterations (max_iter) or scale the data as shown in:\n",
      "    https://scikit-learn.org/stable/modules/preprocessing.html\n",
      "Please also refer to the documentation for alternative solver options:\n",
      "    https://scikit-learn.org/stable/modules/linear_model.html#logistic-regression\n",
      "  n_iter_i = _check_optimize_result(\n"
     ]
    }
   ],
   "source": [
    "clf_swYES_cvMAX = LogisticRegression(random_state=0).fit(X_train, y_train)\n",
    "y_pred_train = clf_swYES_cvMAX.predict(X_train)\n",
    "y_pred_test = clf_swYES_cvMAX.predict(X_test)"
   ]
  },
  {
   "cell_type": "code",
   "execution_count": 591,
   "id": "da72e62e",
   "metadata": {},
   "outputs": [
    {
     "name": "stdout",
     "output_type": "stream",
     "text": [
      "0.9662392990635424\n",
      "0.927825108503456\n"
     ]
    }
   ],
   "source": [
    "print(accuracy_score(y_train,y_pred_train))\n",
    "print(accuracy_score(y_test,y_pred_test))"
   ]
  },
  {
   "cell_type": "code",
   "execution_count": 7,
   "id": "f55ff844",
   "metadata": {},
   "outputs": [
    {
     "name": "stdout",
     "output_type": "stream",
     "text": [
      "0.9667215947912061\n",
      "0.9337727053528372\n"
     ]
    }
   ],
   "source": [
    "print(accuracy_score(y_train,y_pred_train))\n",
    "print(accuracy_score(y_test,y_pred_test))"
   ]
  },
  {
   "cell_type": "code",
   "execution_count": 8,
   "id": "1a838309",
   "metadata": {},
   "outputs": [],
   "source": [
    "vectorizer = CountVectorizer()\n",
    "X = vectorizer.fit_transform(df.verses_clean_nosw.values)\n",
    "X = pd.DataFrame(data=X.toarray(),columns = vectorizer.get_feature_names_out())\n",
    "X_train = X.loc[ids_train,:]\n",
    "X_test = X.loc[ids_test]"
   ]
  },
  {
   "cell_type": "code",
   "execution_count": 9,
   "id": "145196b9",
   "metadata": {},
   "outputs": [
    {
     "name": "stderr",
     "output_type": "stream",
     "text": [
      "/home/atom/anaconda3/lib/python3.11/site-packages/sklearn/linear_model/_logistic.py:460: ConvergenceWarning: lbfgs failed to converge (status=1):\n",
      "STOP: TOTAL NO. of ITERATIONS REACHED LIMIT.\n",
      "\n",
      "Increase the number of iterations (max_iter) or scale the data as shown in:\n",
      "    https://scikit-learn.org/stable/modules/preprocessing.html\n",
      "Please also refer to the documentation for alternative solver options:\n",
      "    https://scikit-learn.org/stable/modules/linear_model.html#logistic-regression\n",
      "  n_iter_i = _check_optimize_result(\n"
     ]
    }
   ],
   "source": [
    "clf_swNO_cvMAX = LogisticRegression(random_state=0).fit(X_train, y_train)\n",
    "y_pred_train = clf_swNO_cvMAX.predict(X_train)\n",
    "y_pred_test = clf_swNO_cvMAX.predict(X_test)"
   ]
  },
  {
   "cell_type": "code",
   "execution_count": 10,
   "id": "2af6375e",
   "metadata": {},
   "outputs": [
    {
     "name": "stdout",
     "output_type": "stream",
     "text": [
      "0.9606125155741329\n",
      "0.9246101912875744\n"
     ]
    }
   ],
   "source": [
    "print(accuracy_score(y_train,y_pred_train))\n",
    "print(accuracy_score(y_test,y_pred_test))"
   ]
  },
  {
   "cell_type": "code",
   "execution_count": 11,
   "id": "9d43f0d1",
   "metadata": {},
   "outputs": [],
   "source": [
    "vectorizer = CountVectorizer(max_features=5000)\n",
    "X = vectorizer.fit_transform(df.verses_clean_nosw.values)\n",
    "X = pd.DataFrame(data=X.toarray(),columns = vectorizer.get_feature_names_out())\n",
    "X_train = X.loc[ids_train,:]\n",
    "X_test = X.loc[ids_test]"
   ]
  },
  {
   "cell_type": "code",
   "execution_count": 13,
   "id": "eef0f9d9",
   "metadata": {},
   "outputs": [
    {
     "name": "stderr",
     "output_type": "stream",
     "text": [
      "/home/atom/anaconda3/lib/python3.11/site-packages/sklearn/linear_model/_logistic.py:460: ConvergenceWarning: lbfgs failed to converge (status=1):\n",
      "STOP: TOTAL NO. of ITERATIONS REACHED LIMIT.\n",
      "\n",
      "Increase the number of iterations (max_iter) or scale the data as shown in:\n",
      "    https://scikit-learn.org/stable/modules/preprocessing.html\n",
      "Please also refer to the documentation for alternative solver options:\n",
      "    https://scikit-learn.org/stable/modules/linear_model.html#logistic-regression\n",
      "  n_iter_i = _check_optimize_result(\n"
     ]
    }
   ],
   "source": [
    "clf_swNO_cv5000 = LogisticRegression(random_state=0).fit(X_train, y_train)\n",
    "y_pred_train = clf_swNO_cv5000.predict(X_train)\n",
    "y_pred_test = clf_swNO_cv5000.predict(X_test)"
   ]
  },
  {
   "cell_type": "code",
   "execution_count": 14,
   "id": "760e6daa",
   "metadata": {},
   "outputs": [
    {
     "name": "stdout",
     "output_type": "stream",
     "text": [
      "0.9528154013102367\n",
      "0.9217167657932808\n"
     ]
    }
   ],
   "source": [
    "print(accuracy_score(y_train,y_pred_train))\n",
    "print(accuracy_score(y_test,y_pred_test))"
   ]
  },
  {
   "cell_type": "code",
   "execution_count": 18,
   "id": "f9995383",
   "metadata": {},
   "outputs": [],
   "source": [
    "def training(corpus,y_train,y_test,max_features_range) :\n",
    "    scores = []\n",
    "    for m in max_features_range : \n",
    "        print(m)\n",
    "        vectorizer = CountVectorizer(max_features=m)\n",
    "        X = vectorizer.fit_transform(corpus)\n",
    "        X = pd.DataFrame(data=X.toarray(),columns=vectorizer.get_feature_names_out())\n",
    "        X_train , X_test = X.loc[ids_train,:] , X.loc[ids_test,:]\n",
    "        clf = LogisticRegression(random_state=0).fit(X_train,y_train)\n",
    "        y_pred_test = clf.predict(X_test)\n",
    "        scores.append(accuracy_score(y_test,y_pred_test))\n",
    "    return score"
   ]
  },
  {
   "cell_type": "code",
   "execution_count": 19,
   "id": "9dd21dfd",
   "metadata": {
    "scrolled": true
   },
   "outputs": [
    {
     "name": "stdout",
     "output_type": "stream",
     "text": [
      "500\n"
     ]
    },
    {
     "name": "stderr",
     "output_type": "stream",
     "text": [
      "/home/atom/anaconda3/lib/python3.11/site-packages/sklearn/linear_model/_logistic.py:460: ConvergenceWarning: lbfgs failed to converge (status=1):\n",
      "STOP: TOTAL NO. of ITERATIONS REACHED LIMIT.\n",
      "\n",
      "Increase the number of iterations (max_iter) or scale the data as shown in:\n",
      "    https://scikit-learn.org/stable/modules/preprocessing.html\n",
      "Please also refer to the documentation for alternative solver options:\n",
      "    https://scikit-learn.org/stable/modules/linear_model.html#logistic-regression\n",
      "  n_iter_i = _check_optimize_result(\n"
     ]
    },
    {
     "name": "stdout",
     "output_type": "stream",
     "text": [
      "1000\n"
     ]
    },
    {
     "name": "stderr",
     "output_type": "stream",
     "text": [
      "/home/atom/anaconda3/lib/python3.11/site-packages/sklearn/linear_model/_logistic.py:460: ConvergenceWarning: lbfgs failed to converge (status=1):\n",
      "STOP: TOTAL NO. of ITERATIONS REACHED LIMIT.\n",
      "\n",
      "Increase the number of iterations (max_iter) or scale the data as shown in:\n",
      "    https://scikit-learn.org/stable/modules/preprocessing.html\n",
      "Please also refer to the documentation for alternative solver options:\n",
      "    https://scikit-learn.org/stable/modules/linear_model.html#logistic-regression\n",
      "  n_iter_i = _check_optimize_result(\n"
     ]
    },
    {
     "name": "stdout",
     "output_type": "stream",
     "text": [
      "5000\n"
     ]
    },
    {
     "name": "stderr",
     "output_type": "stream",
     "text": [
      "/home/atom/anaconda3/lib/python3.11/site-packages/sklearn/linear_model/_logistic.py:460: ConvergenceWarning: lbfgs failed to converge (status=1):\n",
      "STOP: TOTAL NO. of ITERATIONS REACHED LIMIT.\n",
      "\n",
      "Increase the number of iterations (max_iter) or scale the data as shown in:\n",
      "    https://scikit-learn.org/stable/modules/preprocessing.html\n",
      "Please also refer to the documentation for alternative solver options:\n",
      "    https://scikit-learn.org/stable/modules/linear_model.html#logistic-regression\n",
      "  n_iter_i = _check_optimize_result(\n"
     ]
    },
    {
     "name": "stdout",
     "output_type": "stream",
     "text": [
      "10000\n"
     ]
    },
    {
     "name": "stderr",
     "output_type": "stream",
     "text": [
      "/home/atom/anaconda3/lib/python3.11/site-packages/sklearn/linear_model/_logistic.py:460: ConvergenceWarning: lbfgs failed to converge (status=1):\n",
      "STOP: TOTAL NO. of ITERATIONS REACHED LIMIT.\n",
      "\n",
      "Increase the number of iterations (max_iter) or scale the data as shown in:\n",
      "    https://scikit-learn.org/stable/modules/preprocessing.html\n",
      "Please also refer to the documentation for alternative solver options:\n",
      "    https://scikit-learn.org/stable/modules/linear_model.html#logistic-regression\n",
      "  n_iter_i = _check_optimize_result(\n"
     ]
    },
    {
     "name": "stdout",
     "output_type": "stream",
     "text": [
      "20000\n"
     ]
    },
    {
     "name": "stderr",
     "output_type": "stream",
     "text": [
      "/home/atom/anaconda3/lib/python3.11/site-packages/sklearn/linear_model/_logistic.py:460: ConvergenceWarning: lbfgs failed to converge (status=1):\n",
      "STOP: TOTAL NO. of ITERATIONS REACHED LIMIT.\n",
      "\n",
      "Increase the number of iterations (max_iter) or scale the data as shown in:\n",
      "    https://scikit-learn.org/stable/modules/preprocessing.html\n",
      "Please also refer to the documentation for alternative solver options:\n",
      "    https://scikit-learn.org/stable/modules/linear_model.html#logistic-regression\n",
      "  n_iter_i = _check_optimize_result(\n"
     ]
    },
    {
     "ename": "NameError",
     "evalue": "name 'score' is not defined",
     "output_type": "error",
     "traceback": [
      "\u001b[0;31m---------------------------------------------------------------------------\u001b[0m",
      "\u001b[0;31mNameError\u001b[0m                                 Traceback (most recent call last)",
      "Cell \u001b[0;32mIn[19], line 1\u001b[0m\n\u001b[0;32m----> 1\u001b[0m scores_swYES \u001b[38;5;241m=\u001b[39m training(df\u001b[38;5;241m.\u001b[39mverses_clean\u001b[38;5;241m.\u001b[39mvalues,y_train,y_test,max_features_range\u001b[38;5;241m=\u001b[39m[\u001b[38;5;241m500\u001b[39m,\u001b[38;5;241m1000\u001b[39m,\u001b[38;5;241m5000\u001b[39m,\u001b[38;5;241m10000\u001b[39m,\u001b[38;5;241m20000\u001b[39m])\n",
      "Cell \u001b[0;32mIn[18], line 12\u001b[0m, in \u001b[0;36mtraining\u001b[0;34m(corpus, y_train, y_test, max_features_range)\u001b[0m\n\u001b[1;32m     10\u001b[0m     y_pred_test \u001b[38;5;241m=\u001b[39m clf\u001b[38;5;241m.\u001b[39mpredict(X_test)\n\u001b[1;32m     11\u001b[0m     scores\u001b[38;5;241m.\u001b[39mappend(accuracy_score(y_test,y_pred_test))\n\u001b[0;32m---> 12\u001b[0m \u001b[38;5;28;01mreturn\u001b[39;00m score\n",
      "\u001b[0;31mNameError\u001b[0m: name 'score' is not defined"
     ]
    }
   ],
   "source": [
    "scores_swYES = training(df.verses_clean.values,y_train,y_test,max_features_range=[500,1000,5000,10000,20000])"
   ]
  },
  {
   "cell_type": "code",
   "execution_count": null,
   "id": "90006541",
   "metadata": {},
   "outputs": [],
   "source": [
    "scores_swNO = training(df.verses_clean_nosw.values,y_train,y_test,max_features_range=[500,1000,5000,10000,20000])"
   ]
  },
  {
   "cell_type": "code",
   "execution_count": 20,
   "id": "48ac44e2",
   "metadata": {},
   "outputs": [
    {
     "ename": "NameError",
     "evalue": "name 'scores_swYES' is not defined",
     "output_type": "error",
     "traceback": [
      "\u001b[0;31m---------------------------------------------------------------------------\u001b[0m",
      "\u001b[0;31mNameError\u001b[0m                                 Traceback (most recent call last)",
      "Cell \u001b[0;32mIn[20], line 1\u001b[0m\n\u001b[0;32m----> 1\u001b[0m scores_swYES\n",
      "\u001b[0;31mNameError\u001b[0m: name 'scores_swYES' is not defined"
     ]
    }
   ],
   "source": [
    "scores_swYES"
   ]
  }
 ],
 "metadata": {
  "kernelspec": {
   "display_name": "Python 3 (ipykernel)",
   "language": "python",
   "name": "python3"
  },
  "language_info": {
   "codemirror_mode": {
    "name": "ipython",
    "version": 3
   },
   "file_extension": ".py",
   "mimetype": "text/x-python",
   "name": "python",
   "nbconvert_exporter": "python",
   "pygments_lexer": "ipython3",
   "version": "3.11.4"
  },
  "toc": {
   "base_numbering": 1,
   "nav_menu": {},
   "number_sections": true,
   "sideBar": true,
   "skip_h1_title": false,
   "title_cell": "Table of Contents",
   "title_sidebar": "Contents",
   "toc_cell": false,
   "toc_position": {},
   "toc_section_display": true,
   "toc_window_display": false
  }
 },
 "nbformat": 4,
 "nbformat_minor": 5
}
